{
 "cells": [
  {
   "cell_type": "code",
   "execution_count": null,
   "metadata": {},
   "outputs": [],
   "source": [
    "import sys\n",
    "\n",
    "sys.path.insert(1, \"../\")\n",
    "\n",
    "import rasterio as rio\n",
    "import numpy as np\n",
    "from shapely import from_wkt\n",
    "from dem_handler.utils.spatial import transform_polygon\n",
    "from dem_comparison.analysis import analyse_difference_for_interval\n",
    "from dem_comparison.utils import simple_mosaic\n",
    "from dem_comparison.utils import get_cross_section_data, enhance_image\n",
    "from dem_comparison.plots import plot_cross_sections\n",
    "from pathlib import Path\n",
    "import os\n",
    "import glob\n",
    "from dem_comparison.utils import reproject_match_tifs\n",
    "from dem_handler.utils.rio_tools import reproject_profile_to_new_crs"
   ]
  },
  {
   "cell_type": "code",
   "execution_count": null,
   "metadata": {},
   "outputs": [],
   "source": [
    "poly = \"POLYGON ((-1478972.5805124296 -584351.9503323506, -1429491.2228967457 -609735.2441741625, -1466227.382338693 -677424.0277523277, -1514959.0224147453 -653861.4765067638, -1478972.5805124296 -584351.9503323506))\"\n",
    "AOI_1_Bounds = transform_polygon(from_wkt(poly), 3031, 4326).bounds\n",
    "AOI_1_Bounds = (\n",
    "    *(np.floor(AOI_1_Bounds[0:2]).astype(\"int\")).tolist(),\n",
    "    *(np.ceil(AOI_1_Bounds[2:]).astype(\"int\")).tolist(),\n",
    ")\n",
    "lat_range = range(AOI_1_Bounds[1], AOI_1_Bounds[3])\n",
    "lon_range = range(AOI_1_Bounds[0], AOI_1_Bounds[2])\n",
    "lat_range, lon_range"
   ]
  },
  {
   "cell_type": "code",
   "execution_count": null,
   "metadata": {},
   "outputs": [],
   "source": [
    "location_name = \"Artifact_1\"\n",
    "analyse_difference_for_interval(\n",
    "    lat_range,\n",
    "    lon_range,\n",
    "    temp_path=Path(f\"TEMP_{location_name}\"),\n",
    "    save_dir_path=Path(f\"{location_name}_Outputs\"),\n",
    "    use_multiprocessing=True,\n",
    "    query_num_tasks=None,\n",
    "    keep_temp_files=True,\n",
    "    return_outputs=False,\n",
    "    num_cpus=4,\n",
    "    rema_index_path=Path(\"../dem_comparison/data/REMA_Mosaic_Index_v2.gpkg\"),\n",
    "    cop30_index_path=Path(\"../dem_comparison/data/copdem_tindex_filename.gpkg\"),\n",
    ")"
   ]
  },
  {
   "cell_type": "code",
   "execution_count": null,
   "metadata": {},
   "outputs": [],
   "source": [
    "os.makedirs(f\"{location_name}_Outputs/{location_name}_mosaics\", exist_ok=True)\n",
    "diff_arrays = [Path(p) for p in glob.glob(f\"{location_name}_Outputs/dem_diff/*.tif\")]\n",
    "diff_mos = Path(f\"{location_name}_Outputs/{location_name}_mosaics/diff_mos.tif\")\n",
    "if diff_mos.exists():\n",
    "    os.remove(diff_mos)\n",
    "simple_mosaic(diff_arrays, diff_mos, force_bounds=from_wkt(poly).bounds)"
   ]
  },
  {
   "cell_type": "code",
   "execution_count": null,
   "metadata": {},
   "outputs": [],
   "source": [
    "with rio.open(diff_mos, \"r\") as ds:\n",
    "    tr = ds.transform\n",
    "    rema_resolution = (tr.a, -tr.e)\n",
    "\n",
    "\n",
    "cop_dems = glob.glob(f\"TEMP_{location_name}/**/TEMP_COP_ELLIPSOID.tif\")\n",
    "rema_dems = glob.glob(f\"TEMP_{location_name}/**/TEMP_REMA.tif\")\n",
    "\n",
    "cop_mosaic = Path(f\"{location_name}_Outputs/cop_mosaic.tif\")\n",
    "rema_mosaic = Path(f\"{location_name}_Outputs/rema_mosaic.tif\")\n",
    "\n",
    "simple_mosaic(\n",
    "    cop_dems,\n",
    "    cop_mosaic,\n",
    "    force_bounds=transform_polygon(from_wkt(poly), 3031, 4326).bounds,\n",
    ")\n",
    "simple_mosaic(\n",
    "    rema_dems,\n",
    "    rema_mosaic,\n",
    "    force_bounds=from_wkt(poly).bounds,\n",
    "    resolution=rema_resolution,\n",
    ")\n",
    "matched_cop_mosaic = Path(\n",
    "    f\"{location_name}_Outputs/{location_name}_mosaics/matched_cop_mosaic.tif\"\n",
    ")\n",
    "matched_rema_mosaic = Path(\n",
    "    f\"{location_name}_Outputs/{location_name}_mosaics/matched_rema_mosaic.tif\"\n",
    ")\n",
    "reproject_match_tifs(\n",
    "    rema_mosaic,\n",
    "    cop_mosaic,\n",
    "    target_crs=3031,\n",
    "    verbose=True,\n",
    "    convert_dB=False,\n",
    "    save_path_1=matched_rema_mosaic,\n",
    "    save_path_2=matched_cop_mosaic,\n",
    ")\n",
    "os.remove(cop_mosaic)\n",
    "os.remove(rema_mosaic)"
   ]
  },
  {
   "cell_type": "code",
   "execution_count": null,
   "metadata": {},
   "outputs": [],
   "source": [
    "rasters = [matched_cop_mosaic, matched_rema_mosaic]\n",
    "plot_cross_sections(\n",
    "    rasters,\n",
    "    from_wkt(poly),\n",
    "    diff_mos,\n",
    "    raster_names=[\"COP\", \"REMA\"],\n",
    "    raster_colours=[\"orange\", \"cyan\"],\n",
    "    save_path=\"cross_plot.html\",\n",
    ")"
   ]
  },
  {
   "cell_type": "code",
   "execution_count": null,
   "metadata": {},
   "outputs": [],
   "source": []
  }
 ],
 "metadata": {
  "kernelspec": {
   "display_name": "dem-comparison",
   "language": "python",
   "name": "python3"
  },
  "language_info": {
   "codemirror_mode": {
    "name": "ipython",
    "version": 3
   },
   "file_extension": ".py",
   "mimetype": "text/x-python",
   "name": "python",
   "nbconvert_exporter": "python",
   "pygments_lexer": "ipython3",
   "version": "3.13.2"
  }
 },
 "nbformat": 4,
 "nbformat_minor": 2
}
