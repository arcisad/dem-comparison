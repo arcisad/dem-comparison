{
 "cells": [
  {
   "cell_type": "code",
   "execution_count": null,
   "metadata": {},
   "outputs": [],
   "source": [
    "import sys\n",
    "\n",
    "sys.path.insert(1, \"../\")\n",
    "\n",
    "import rasterio as rio\n",
    "import numpy as np\n",
    "from shapely import from_wkt\n",
    "from dem_handler.utils.spatial import transform_polygon\n",
    "from dem_comparison.analysis import analyse_difference_for_interval\n",
    "from dem_comparison.utils import simple_mosaic, kml_to_poly\n",
    "from dem_comparison.utils import get_cross_section_data, enhance_image, hillshade\n",
    "from dem_comparison.plots import plot_cross_sections, plot_slope_vs_height\n",
    "from pathlib import Path\n",
    "import os\n",
    "import glob\n",
    "from dem_comparison.utils import reproject_match_tifs\n",
    "from dem_handler.utils.rio_tools import (\n",
    "    reproject_profile_to_new_crs,\n",
    "    reproject_arr_to_match_profile,\n",
    "    reproject_arr_to_new_crs,\n",
    ")\n",
    "import shutil\n",
    "import matplotlib.pyplot as plt\n",
    "import gemgis as gg\n",
    "from shapely import Polygon\n",
    "from dem_comparison.analysis import area_of_interest\n",
    "import plotly.express as px\n",
    "import plotly.graph_objects as go\n",
    "import pandas as pd\n",
    "import aioboto3\n",
    "import yaml\n",
    "from dem_comparison.utils import bulk_upload_files"
   ]
  },
  {
   "cell_type": "code",
   "execution_count": null,
   "metadata": {},
   "outputs": [],
   "source": [
    "other_aoi_names = [\n",
    "    \"Amery_1\",\n",
    "    \"Amery_2\",\n",
    "    \"Queen_Mnt_1\",\n",
    "    \"Queen_Mnt_2\",\n",
    "    \"Artifact_2\",\n",
    "    \"Artifact_3\",\n",
    "    \"Sastrugi\",\n",
    "    \"Amery_Blue_Ice\",\n",
    "    \"Jelbart\",\n",
    "]\n",
    "other_aoi_polys = list(kml_to_poly(\"../temp/cross_section_aois.kml\").geoms)\n",
    "# aoi_name = \"Artifact_1\"\n",
    "# aoi_name = \"Ellsworth_Mountains_Lower\"\n",
    "# aoi_name = \"Sør_AOI\"\n",
    "aoi_name = other_aoi_names[8]\n",
    "Path(f\"../temp/{aoi_name}_Outputs/Plots\").mkdir(parents=True, exist_ok=True)\n",
    "\n",
    "poly_crs = 4326  # 3031"
   ]
  },
  {
   "cell_type": "code",
   "execution_count": null,
   "metadata": {},
   "outputs": [],
   "source": [
    "# poly = from_wkt(\"POLYGON ((-1478972.5805124296 -584351.9503323506, -1429491.2228967457 -609735.2441741625, -1466227.382338693 -677424.0277523277, -1514959.0224147453 -653861.4765067638, -1478972.5805124296 -584351.9503323506))\")\n",
    "# poly = kml_to_poly(f\"{aoi_name}_Outputs/aoi.kml\")\n",
    "poly = other_aoi_polys[other_aoi_names.index(aoi_name)]\n",
    "poly.bounds"
   ]
  },
  {
   "cell_type": "code",
   "execution_count": null,
   "metadata": {},
   "outputs": [],
   "source": [
    "output_files = area_of_interest(\n",
    "    poly,\n",
    "    poly_crs,\n",
    "    aoi_name,\n",
    "    # return_outputs=True,\n",
    "    keep_temp_files=True,\n",
    "    # s3_upload_dir=\"auto\",\n",
    "    save_path=f\"../temp/{aoi_name}_Outputs\",\n",
    "    temp_path=Path(f\"../temp/TEMP_{aoi_name}\"),\n",
    ")"
   ]
  },
  {
   "cell_type": "code",
   "execution_count": null,
   "metadata": {},
   "outputs": [],
   "source": [
    "major_axis_ratio = 0.2\n",
    "minor_axis_ratio = 0.55\n",
    "res_multipllier = 1.1\n",
    "h_factor = 0.5\n",
    "w_factor = 0.7\n",
    "\n",
    "with rio.open(output_files[0]) as ds:\n",
    "    w = ds.width\n",
    "    h = ds.height\n",
    "\n",
    "aspect = w / h\n",
    "print(h, w, aspect)\n",
    "plot_res = (\n",
    "    int(h_factor * res_multipllier * h),\n",
    "    int(w_factor * res_multipllier * h * aspect),\n",
    ")\n",
    "plot_res"
   ]
  },
  {
   "cell_type": "code",
   "execution_count": null,
   "metadata": {},
   "outputs": [],
   "source": [
    "hcs_fig = plot_cross_sections(\n",
    "    output_files[1:3],\n",
    "    transform_polygon(poly, poly_crs, 3031),\n",
    "    output_files[0],\n",
    "    raster_names=[\"REMA\", \"COP\"],\n",
    "    raster_colours=[\"orange\", \"cyan\"],\n",
    "    save_path=Path(f\"../temp/{aoi_name}_Outputs/Plots/height_cross_plot.html\"),\n",
    "    full_map=Path(\"../resources/mosaic_downsampled_3200m.tif\"),\n",
    "    aoi_name=aoi_name.replace(\"_\", \" \"),\n",
    "    major_axis_ratio=major_axis_ratio,\n",
    "    minor_axis_ratio=minor_axis_ratio,\n",
    "    diff_opacity=0.0,\n",
    "    hillshade_index=1,\n",
    "    aoi_buffer=10,\n",
    "    dynamic_spacing=False,\n",
    "    plot_resolution=plot_res,\n",
    "    # preview=True\n",
    ")"
   ]
  },
  {
   "cell_type": "code",
   "execution_count": null,
   "metadata": {},
   "outputs": [],
   "source": [
    "hcs_fig"
   ]
  },
  {
   "cell_type": "code",
   "execution_count": null,
   "metadata": {},
   "outputs": [],
   "source": [
    "scs_fig = plot_cross_sections(\n",
    "    output_files[4:6],\n",
    "    transform_polygon(poly, poly_crs, 3031),\n",
    "    output_files[3],\n",
    "    raster_names=[\"REMA\", \"COP\"],\n",
    "    raster_colours=[\"orange\", \"cyan\"],\n",
    "    save_path=f\"../temp/{aoi_name}_Outputs/Plots/slope_cross_plot.html\",\n",
    "    axes_label=\"Slope(°)\",\n",
    "    full_map=Path(\"../resources/mosaic_downsampled_3200m.tif\"),\n",
    "    aoi_name=aoi_name.replace(\"_\", \" \"),\n",
    "    major_axis_ratio=major_axis_ratio,\n",
    "    minor_axis_ratio=minor_axis_ratio,\n",
    "    diff_unit=\"°\",\n",
    "    diff_opacity=0.0,\n",
    "    hillshade_index=1,\n",
    "    aoi_buffer=10,\n",
    "    dynamic_spacing=False,\n",
    "    # plot_resolution=plot_res,\n",
    ")"
   ]
  },
  {
   "cell_type": "code",
   "execution_count": null,
   "metadata": {},
   "outputs": [],
   "source": [
    "scs_fig"
   ]
  },
  {
   "cell_type": "code",
   "execution_count": null,
   "metadata": {},
   "outputs": [],
   "source": [
    "hvss_fig = plot_slope_vs_height(\n",
    "    output_files[5:3:-1],\n",
    "    output_files[0],\n",
    "    output_files[3],\n",
    "    transform_polygon(poly, poly_crs, 3031),\n",
    "    raster_names=[\"REMA\", \"COP\"],\n",
    "    save_path=Path(f\"../temp/{aoi_name}_Outputs/Plots/height_slope_plot.html\"),\n",
    "    aoi_name=aoi_name.replace(\"_\", \" \"),\n",
    "    major_axis_ratio=major_axis_ratio,\n",
    "    minor_axis_ratio=minor_axis_ratio,\n",
    "    plot_trendline=True,\n",
    ")"
   ]
  },
  {
   "cell_type": "code",
   "execution_count": null,
   "metadata": {},
   "outputs": [],
   "source": [
    "hvss_fig"
   ]
  },
  {
   "cell_type": "code",
   "execution_count": null,
   "metadata": {},
   "outputs": [],
   "source": [
    "with open(\"../temp/credentials_aws.yaml\") as f:\n",
    "    cred_dict = yaml.safe_load(f)\n",
    "AWS_ACCESS_KEY_ID = cred_dict[\"AWS_ACCESS_KEY_ID\"]\n",
    "AWS_SECRET_ACCESS_KEY = cred_dict[\"AWS_SECRET_ACCESS_KEY\"]\n",
    "AWS_DEFAULT_REGION = cred_dict[\"AWS_DEFAULT_REGION\"]\n",
    "\n",
    "session = aioboto3.Session(\n",
    "    aws_access_key_id=AWS_ACCESS_KEY_ID,\n",
    "    aws_secret_access_key=AWS_SECRET_ACCESS_KEY,\n",
    "    region_name=AWS_DEFAULT_REGION,\n",
    ")\n",
    "s3_dir = Path(f\"dem_comparison_results/Areas_of_Interest/{aoi_name}_Outputs\")\n",
    "local_dir = Path(f\"../temp/{aoi_name}_Outputs\")\n",
    "bulk_upload_files(\n",
    "    s3_dir,\n",
    "    local_dir,\n",
    "    session=session,\n",
    "    num_cpus=4,\n",
    ")"
   ]
  },
  {
   "cell_type": "code",
   "execution_count": null,
   "metadata": {},
   "outputs": [],
   "source": []
  }
 ],
 "metadata": {
  "kernelspec": {
   "display_name": "dem-comparison",
   "language": "python",
   "name": "python3"
  },
  "language_info": {
   "codemirror_mode": {
    "name": "ipython",
    "version": 3
   },
   "file_extension": ".py",
   "mimetype": "text/x-python",
   "name": "python",
   "nbconvert_exporter": "python",
   "pygments_lexer": "ipython3",
   "version": "3.13.2"
  }
 },
 "nbformat": 4,
 "nbformat_minor": 2
}
