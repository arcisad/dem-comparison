{
 "cells": [
  {
   "cell_type": "code",
   "execution_count": null,
   "metadata": {},
   "outputs": [],
   "source": [
    "import sys\n",
    "\n",
    "sys.path.insert(1, \"../\")\n",
    "\n",
    "import glob\n",
    "from dem_comparison.plots import plot_metrics\n",
    "from pathlib import Path\n",
    "from dem_comparison.utils import resample_dataset, read_metrics, filter_data\n",
    "import multiprocessing as mp\n",
    "import rasterio as rio\n",
    "import numpy as np\n",
    "from tqdm import tqdm\n",
    "import psutil"
   ]
  },
  {
   "cell_type": "code",
   "execution_count": null,
   "metadata": {},
   "outputs": [],
   "source": [
    "diffs = glob.glob(f\"../Antarctica_Dem_Comparison/dem_diff/**.tif\")\n",
    "labels = [\"ME\", \"STD\", \"MSE\", \"NMAD\"]\n",
    "\n",
    "\n",
    "def read_n_close(r):\n",
    "    with rio.open(r, \"r\") as ds:\n",
    "        data = ds.read(1)\n",
    "        data = data[~np.isnan(data)]\n",
    "    return data\n",
    "\n",
    "\n",
    "count = 0\n",
    "sum = 0\n",
    "loop = tqdm(enumerate(diffs), total=len(diffs))\n",
    "for i, d in loop:\n",
    "    dt = read_n_close(d)\n",
    "    count += len(dt)\n",
    "    sum += dt.sum()\n",
    "    loop.set_postfix(free_mem=psutil.virtual_memory().available / (1024**3))\n",
    "mean = sum / count\n",
    "\n",
    "std = 0\n",
    "sum = 0\n",
    "for i, d in loop:\n",
    "    dt = read_n_close(d)\n",
    "    sum += np.pow(dt - mean, 2).sum()\n",
    "    loop.set_postfix(free_mem=psutil.virtual_memory().available / (1024**3))\n",
    "std = np.sqrt(sum / count)"
   ]
  },
  {
   "cell_type": "code",
   "execution_count": null,
   "metadata": {},
   "outputs": [],
   "source": [
    "is_error = True\n",
    "polar = True\n",
    "pkls = glob.glob(f\"../Antarctica_Dem_Comparison/dem_diff_metrics/**.pkl\")\n",
    "custom_bins = [[-40, -20, -10, -7.5, -5, -2.5, 0, 2.5, 5, 7.5, 10, 20, 40], 15, 15, 15]\n",
    "equal_bins = 5\n",
    "no_bounds = None\n",
    "no_percentile = None\n",
    "normal_bounds = [(-50, 50), (0, 10), (0, 250), (0, 5)]\n",
    "extreme_bounds = [(-10000, -10), (10, 50000), (1e4, 1e8), (2, 500)]\n",
    "percentiles = (10, 98)\n",
    "outliers = True\n",
    "plot_name = \"metric_plots/metrics_percentile_extremes_equal_bins.html\"\n",
    "plot_metrics(\n",
    "    pkls,\n",
    "    is_error,\n",
    "    polar,\n",
    "    plot_name,\n",
    "    data_bounds=no_bounds,\n",
    "    percentiles_bracket=percentiles,\n",
    "    bins=equal_bins,\n",
    "    plot_resolution=(700, 1600),\n",
    "    percentile_outliers=not outliers,\n",
    ")"
   ]
  },
  {
   "cell_type": "code",
   "execution_count": null,
   "metadata": {},
   "outputs": [],
   "source": [
    "is_error = True\n",
    "polar = True\n",
    "pkls = glob.glob(f\"../Antarctica_Dem_Comparison/dem_diff_metrics/**.pkl\")\n",
    "labels = [\"ME\" if is_error else \"MEAN\", \"STD\", \"MSE\", \"NMAD\"]\n",
    "metrics, x0, y0 = read_metrics(pkls, numerical_axes=polar)\n",
    "np.percentile(metrics[0], 10), np.percentile(metrics[0], 90)"
   ]
  },
  {
   "cell_type": "code",
   "execution_count": null,
   "metadata": {},
   "outputs": [],
   "source": [
    "from dem_comparison.utils import simple_mosaic\n",
    "\n",
    "tifs = glob.glob(\"../Antarctica_Dem_Comparison/overviews/*.tif\")\n",
    "simple_mosaic(tifs, \"../Antarctica_Dem_Comparison/mosaic_downsampled.tif\")"
   ]
  },
  {
   "cell_type": "code",
   "execution_count": null,
   "metadata": {},
   "outputs": [],
   "source": [
    "# import rasterio as rio\n",
    "# rio.open(\"../Antarctica_Dem_Comparison/mosaic_downsampled.tif\").profile"
   ]
  },
  {
   "cell_type": "code",
   "execution_count": null,
   "metadata": {},
   "outputs": [],
   "source": []
  }
 ],
 "metadata": {
  "kernelspec": {
   "display_name": "dem-comparison",
   "language": "python",
   "name": "python3"
  },
  "language_info": {
   "codemirror_mode": {
    "name": "ipython",
    "version": 3
   },
   "file_extension": ".py",
   "mimetype": "text/x-python",
   "name": "python",
   "nbconvert_exporter": "python",
   "pygments_lexer": "ipython3",
   "version": "3.13.2"
  }
 },
 "nbformat": 4,
 "nbformat_minor": 2
}
