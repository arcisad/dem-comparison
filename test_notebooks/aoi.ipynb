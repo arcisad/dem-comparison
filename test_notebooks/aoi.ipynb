{
 "cells": [
  {
   "cell_type": "code",
   "execution_count": null,
   "metadata": {},
   "outputs": [],
   "source": [
    "import sys\n",
    "\n",
    "sys.path.insert(1, \"../\")\n",
    "\n",
    "import glob\n",
    "from dem_comparison.plots import plot_metrics\n",
    "from pathlib import Path\n",
    "from dem_comparison.utils import resample_dataset, read_metrics, filter_data\n",
    "import multiprocessing as mp\n",
    "import rasterio as rio\n",
    "import numpy as np\n",
    "from tqdm import tqdm\n",
    "import psutil\n",
    "import dask.array as da\n",
    "import geopandas as gpd\n",
    "from pathlib import Path\n",
    "import pyproj\n",
    "from shapely import Point"
   ]
  },
  {
   "cell_type": "code",
   "execution_count": null,
   "metadata": {},
   "outputs": [],
   "source": [
    "pkls = glob.glob(\n",
    "    f\"../Antarctica_Dem_Comparison_Ocean_Corrected/dem_diff_metrics/**.pkl\"\n",
    ")\n",
    "metrics, x, y = read_metrics(pkls)\n",
    "lp = np.percentile(metrics[0], 5)\n",
    "up = np.percentile(metrics[0], 99.8)\n",
    "lp, up"
   ]
  },
  {
   "cell_type": "code",
   "execution_count": null,
   "metadata": {},
   "outputs": [],
   "source": [
    "lp_all = 4.33984375\n",
    "up_all = 428.4710494\n",
    "mean = -23.067417\n",
    "std = 513.7998\n",
    "\n",
    "mean_p = 6.152629\n",
    "std_p = 4.336989"
   ]
  },
  {
   "cell_type": "code",
   "execution_count": null,
   "metadata": {},
   "outputs": [],
   "source": [
    "diffs = glob.glob(f\"../Antarctica_Dem_Comparison_Ocean_Corrected/dem_diff/**.tif\")\n",
    "labels = [\"ME\", \"STD\", \"MSE\", \"NMAD\"]\n",
    "\n",
    "\n",
    "def read_n_close(r, use_percentiles=False, lp=None, up=None, dtype=np.float16):\n",
    "    with rio.open(r, \"r\") as ds:\n",
    "        data = ds.read(1)\n",
    "        data = data[~np.isnan(data)]\n",
    "        if len(data) == 0:\n",
    "            return None\n",
    "        if use_percentiles:\n",
    "            data = data[data > lp]\n",
    "            data = data[data < up]\n",
    "    return data.astype(dtype)"
   ]
  },
  {
   "cell_type": "code",
   "execution_count": null,
   "metadata": {},
   "outputs": [],
   "source": [
    "dask_data = da.array([])\n",
    "# count = 0\n",
    "loop = tqdm(enumerate(diffs), total=len(diffs))\n",
    "for i, d in loop:\n",
    "    dt = read_n_close(d)  # , lp=lp_all, up=up_all, use_percentiles=True)\n",
    "    # dask_arrays.append(da.from_array(dt, chunks=dt.shape))\n",
    "    dask_data = da.concatenate([dask_data, da.from_array(dt, chunks=dt.shape)])\n",
    "    # count += len(dt)\n",
    "    free_mem = psutil.virtual_memory().available / (1024**3)\n",
    "    if free_mem < 5:\n",
    "        print(\"Free memory is low, breaking the loop\")\n",
    "        break\n",
    "    loop.set_postfix(free_mem=free_mem)"
   ]
  },
  {
   "cell_type": "code",
   "execution_count": null,
   "metadata": {},
   "outputs": [],
   "source": [
    "count = 0\n",
    "sum = np.float32(0)\n",
    "loop = tqdm(enumerate(diffs), total=len(diffs))\n",
    "for i, d in loop:\n",
    "    dt = read_n_close(d, dtype=np.float32, lp=lp_all, up=up_all, use_percentiles=True)\n",
    "    if dt is None:\n",
    "        loop.set_postfix(free_mem=psutil.virtual_memory().available / (1024**3))\n",
    "        continue\n",
    "    count += len(dt)\n",
    "    sum += dt.sum()\n",
    "    loop.set_postfix(free_mem=psutil.virtual_memory().available / (1024**3))\n",
    "mean = sum / count\n",
    "\n",
    "std = np.float32(0)\n",
    "sum = np.float32(0)\n",
    "loop = tqdm(enumerate(diffs), total=len(diffs))\n",
    "for i, d in loop:\n",
    "    dt = read_n_close(d, dtype=np.float32, lp=lp_all, up=up_all, use_percentiles=True)\n",
    "    if dt is None:\n",
    "        loop.set_postfix(free_mem=psutil.virtual_memory().available / (1024**3))\n",
    "        continue\n",
    "    sum += np.pow(dt - mean, 2).sum()\n",
    "    loop.set_postfix(free_mem=psutil.virtual_memory().available / (1024**3))\n",
    "std = np.sqrt(sum / count)"
   ]
  },
  {
   "cell_type": "code",
   "execution_count": null,
   "metadata": {},
   "outputs": [],
   "source": [
    "is_error = True\n",
    "polar = True\n",
    "pkls = glob.glob(\n",
    "    f\"../Antarctica_Dem_Comparison_Ocean_Corrected/dem_diff_metrics/**.pkl\"\n",
    ")\n",
    "custom_bins = [[-40, -20, -10, -7.5, -5, -2.5, 0, 2.5, 5, 7.5, 10, 20, 40], 15, 15, 15]\n",
    "equal_bins = 8\n",
    "no_bounds = None\n",
    "no_percentile = None\n",
    "normal_bounds = [(-10, 100), (0, 10), (0, 250), (0, 5)]\n",
    "extreme_bounds = [(-10000, -10), (10, 50000), (1e4, 1e8), (2, 500)]\n",
    "percentiles = (5, 99.8)\n",
    "outliers = False\n",
    "plot_name = \"../temp/metric_plots/metrics_percentile_equal_bins.html\"\n",
    "new_metrics, _, new_percentiles = plot_metrics(\n",
    "    pkls,\n",
    "    is_error,\n",
    "    polar,\n",
    "    plot_name,\n",
    "    data_bounds=no_bounds,\n",
    "    percentiles_bracket=percentiles,\n",
    "    bins=equal_bins,\n",
    "    plot_resolution=(700, 1600),\n",
    "    percentile_outliers=outliers,\n",
    "    return_metrics=True,\n",
    ")"
   ]
  },
  {
   "cell_type": "code",
   "execution_count": null,
   "metadata": {},
   "outputs": [],
   "source": [
    "np.mean(new_metrics[0])"
   ]
  },
  {
   "cell_type": "code",
   "execution_count": null,
   "metadata": {},
   "outputs": [],
   "source": [
    "is_error = True\n",
    "polar = True\n",
    "pkls = glob.glob(f\"../Antarctica_Dem_Comparison/dem_diff_metrics/**.pkl\")\n",
    "labels = [\"ME\" if is_error else \"MEAN\", \"STD\", \"MSE\", \"NMAD\"]\n",
    "metrics, x0, y0 = read_metrics(pkls, numerical_axes=polar)\n",
    "np.percentile(metrics[0], 10), np.percentile(metrics[0], 90)"
   ]
  },
  {
   "cell_type": "code",
   "execution_count": null,
   "metadata": {},
   "outputs": [],
   "source": [
    "dfs = gpd.read_file(\"../temp/coastlines.gpkg\")\n",
    "polys = dfs.geometry\n",
    "areas = [p.area for p in polys]\n",
    "big_coast = polys[np.argmax(areas)]"
   ]
  },
  {
   "cell_type": "code",
   "execution_count": null,
   "metadata": {},
   "outputs": [],
   "source": [
    "# big_ds = dfs.iloc[[np.argmax(areas)], :]\n",
    "# big_ds.to_file(\"../temp/big_coastline.kml\", driver=\"KML\")"
   ]
  },
  {
   "cell_type": "code",
   "execution_count": null,
   "metadata": {},
   "outputs": [],
   "source": [
    "pkls = glob.glob(\n",
    "    f\"../Antarctica_Dem_Comparison_Ocean_Corrected/dem_diff_metrics/**.pkl\"\n",
    ")"
   ]
  },
  {
   "cell_type": "code",
   "execution_count": null,
   "metadata": {},
   "outputs": [],
   "source": [
    "def name_to_coord(fname, transformer):\n",
    "    fname = Path(fname).name\n",
    "    coords = fname.split(\"_\")\n",
    "    if \"N\" in coords[0]:\n",
    "        x = int(coords[0].replace(\"N\", \"\"))\n",
    "    else:\n",
    "        x = -int(coords[0].replace(\"S\", \"\"))\n",
    "    if \"W.pkl\" in coords[1]:\n",
    "        y = -int(coords[1].replace(\"W.pkl\", \"\"))\n",
    "    else:\n",
    "        y = int(coords[1].replace(\"E.pkl\", \"\"))\n",
    "    point_3031 = Point(transformer.transform(y, x))\n",
    "    return point_3031"
   ]
  },
  {
   "cell_type": "code",
   "execution_count": null,
   "metadata": {},
   "outputs": [],
   "source": [
    "# transformer = pyproj.Transformer.from_crs(\n",
    "#     pyproj.CRS(\"EPSG:4326\"), pyproj.CRS(\"EPSG:3031\"), always_xy=True\n",
    "# )\n",
    "# inrange_pkls = []\n",
    "# loop = tqdm(enumerate(pkls), total=len(pkls))\n",
    "# for i, p in loop:\n",
    "#     point_3031 = name_to_coord(p, transformer)\n",
    "#     if big_coast.contains(point_3031):\n",
    "#         inrange_pkls.append(p)\n",
    "\n",
    "# with open(\"../temp/inrange_pkls.txt\", \"w\") as f:\n",
    "#     for p in inrange_pkls:\n",
    "#         f.write(f\"{p}\\n\")"
   ]
  },
  {
   "cell_type": "code",
   "execution_count": null,
   "metadata": {},
   "outputs": [],
   "source": [
    "pkls = glob.glob(\n",
    "    f\"../Antarctica_Dem_Comparison_Ocean_Corrected/dem_diff_metrics/**.pkl\"\n",
    ")\n",
    "with open(\"../temp/inrange_pkls.txt\", \"r\") as f:\n",
    "    inrange_pkls = f.read().splitlines()\n",
    "is_error = True\n",
    "polar = True\n",
    "custom_bins = [[-40, -20, -10, -7.5, -5, -2.5, 0, 2.5, 5, 7.5, 10, 20, 40], 15, 15, 15]\n",
    "equal_bins = 25\n",
    "no_bounds = None\n",
    "no_percentile = None\n",
    "normal_bounds = [(-1000, 50), (0, 10), (0, 250), (0, 5)]\n",
    "extreme_bounds = [(-10000, -10), (10, 50000), (1e4, 1e8), (2, 500)]\n",
    "percentiles = (5, 99.8)\n",
    "outliers = True\n",
    "plot_name = \"../temp/metric_plots/metrics_extremes_bounds_percentiles_equal_bins_coastlines_filtered.html\"\n",
    "new_metrics, _, new_percentiles = plot_metrics(\n",
    "    inrange_pkls,\n",
    "    # list(set(pkls) - set(inrange_pkls)),\n",
    "    is_error,\n",
    "    polar,\n",
    "    plot_name,\n",
    "    data_bounds=no_bounds,  # normal_bounds,\n",
    "    percentiles_bracket=percentiles,\n",
    "    bins=equal_bins,\n",
    "    plot_resolution=(550, 1400),\n",
    "    percentile_outliers=outliers,\n",
    "    return_metrics=True,\n",
    ")"
   ]
  },
  {
   "cell_type": "code",
   "execution_count": null,
   "metadata": {},
   "outputs": [],
   "source": [
    "np.std(new_metrics[0]), np.mean(new_metrics[0])"
   ]
  },
  {
   "cell_type": "code",
   "execution_count": null,
   "metadata": {},
   "outputs": [],
   "source": []
  }
 ],
 "metadata": {
  "kernelspec": {
   "display_name": "dem-comparison",
   "language": "python",
   "name": "python3"
  },
  "language_info": {
   "codemirror_mode": {
    "name": "ipython",
    "version": 3
   },
   "file_extension": ".py",
   "mimetype": "text/x-python",
   "name": "python",
   "nbconvert_exporter": "python",
   "pygments_lexer": "ipython3",
   "version": "3.13.2"
  }
 },
 "nbformat": 4,
 "nbformat_minor": 2
}
