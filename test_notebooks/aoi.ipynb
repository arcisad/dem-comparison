{
 "cells": [
  {
   "cell_type": "code",
   "execution_count": null,
   "metadata": {},
   "outputs": [],
   "source": [
    "import sys\n",
    "\n",
    "sys.path.insert(1, \"../\")\n",
    "import glob\n",
    "from dem_comparison.plots import plot_metrics\n",
    "from osgeo import gdal\n",
    "from pathlib import Path\n",
    "import shutil\n",
    "import glob"
   ]
  },
  {
   "cell_type": "code",
   "execution_count": null,
   "metadata": {},
   "outputs": [],
   "source": [
    "is_error = True\n",
    "polar = True\n",
    "pkls = glob.glob(f\"../Antarctica_Dem_Comparison/dem_diff_metrics/**.pkl\")\n",
    "plot_metrics(pkls, is_error, polar, \"plot.html\")"
   ]
  },
  {
   "cell_type": "code",
   "execution_count": null,
   "metadata": {},
   "outputs": [],
   "source": [
    "overviews_path = Path(\"../Antarctica_Dem_Comparison/overviews\")\n",
    "overviews_path.mkdir(parents=True, exist_ok=True)\n",
    "mosaic_files = [\n",
    "    Path(f) for f in glob.glob(\"../Antarctica_Dem_Comparison/mosaics/*.tif\")\n",
    "]\n",
    "for i, file in enumerate(mosaic_files):\n",
    "    print(f\"Processing {i} of {len(mosaic_files)}.\")\n",
    "    raster = gdal.Open(str(file), 0)\n",
    "    gdal.SetConfigOption(\"COMPRESS_OVERVIEW LERC\", \"DEFLATE\")\n",
    "    raster.BuildOverviews(\"BILINEAR\", [4, 8], gdal.TermProgress_nocb)\n",
    "    shutil.move(\n",
    "        f\"{str(file).replace(\".tif\", \".tif.ovr\")}\",\n",
    "        overviews_path / f\"{file.name.replace(\".tif\", \".tif.ovr\")}\",\n",
    "    )"
   ]
  }
 ],
 "metadata": {
  "kernelspec": {
   "display_name": "dem-comparison",
   "language": "python",
   "name": "python3"
  },
  "language_info": {
   "codemirror_mode": {
    "name": "ipython",
    "version": 3
   },
   "file_extension": ".py",
   "mimetype": "text/x-python",
   "name": "python",
   "nbconvert_exporter": "python",
   "pygments_lexer": "ipython3",
   "version": "3.13.2"
  }
 },
 "nbformat": 4,
 "nbformat_minor": 2
}
