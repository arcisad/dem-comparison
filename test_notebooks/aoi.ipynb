{
 "cells": [
  {
   "cell_type": "code",
   "execution_count": null,
   "metadata": {},
   "outputs": [],
   "source": [
    "import sys\n",
    "\n",
    "sys.path.insert(1, \"../\")\n",
    "\n",
    "import glob\n",
    "from dem_comparison.plots import plot_metrics\n",
    "from pathlib import Path\n",
    "from dem_comparison.utils import resample_dataset\n",
    "import multiprocessing as mp"
   ]
  },
  {
   "cell_type": "code",
   "execution_count": null,
   "metadata": {},
   "outputs": [],
   "source": [
    "is_error = True\n",
    "polar = True\n",
    "pkls = glob.glob(f\"../Antarctica_Dem_Comparison/dem_diff_metrics/**.pkl\")\n",
    "plot_metrics(\n",
    "    pkls,\n",
    "    is_error,\n",
    "    polar,\n",
    "    \"plot.html\",\n",
    "    data_bounds=[(-50, 50), (0, 10), (0, 250), (0, 5)],\n",
    "    num_bins=15,\n",
    ")"
   ]
  },
  {
   "cell_type": "code",
   "execution_count": null,
   "metadata": {},
   "outputs": [],
   "source": [
    "overviews_path = Path(\"../Antarctica_Dem_Comparison/overviews\")\n",
    "overviews_path.mkdir(parents=True, exist_ok=True)\n",
    "mosaic_files = [\n",
    "    Path(f) for f in glob.glob(\"../Antarctica_Dem_Comparison/mosaics/*.tif\")\n",
    "]\n",
    "with mp.Pool(processes=6) as p:\n",
    "    try:\n",
    "        p.starmap(\n",
    "            resample_dataset,\n",
    "            [\n",
    "                (\n",
    "                    file,\n",
    "                    0.2,\n",
    "                    str(overviews_path / file.name),\n",
    "                )\n",
    "                for file in mosaic_files\n",
    "            ],\n",
    "        )\n",
    "    except Exception as e:\n",
    "        raise e"
   ]
  },
  {
   "cell_type": "code",
   "execution_count": null,
   "metadata": {},
   "outputs": [],
   "source": [
    "from dem_comparison.utils import simple_mosaic\n",
    "\n",
    "tifs = glob.glob(\"../Antarctica_Dem_Comparison/overviews/*.tif\")\n",
    "simple_mosaic(tifs, \"../Antarctica_Dem_Comparison/mosaic_downsampled.tif\")"
   ]
  }
 ],
 "metadata": {
  "kernelspec": {
   "display_name": "dem-comparison",
   "language": "python",
   "name": "python3"
  },
  "language_info": {
   "codemirror_mode": {
    "name": "ipython",
    "version": 3
   },
   "file_extension": ".py",
   "mimetype": "text/x-python",
   "name": "python",
   "nbconvert_exporter": "python",
   "pygments_lexer": "ipython3",
   "version": "3.13.2"
  }
 },
 "nbformat": 4,
 "nbformat_minor": 2
}
