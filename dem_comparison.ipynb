{
 "cells": [
  {
   "cell_type": "code",
   "execution_count": null,
   "metadata": {},
   "outputs": [],
   "source": [
    "import rasterio as rio\n",
    "from dem_comparison.analysis import analyse_difference_for_interval\n",
    "from pathlib import Path\n",
    "import glob\n",
    "import os\n",
    "from dem_comparison.utils import simple_mosaic, hillshade\n",
    "import matplotlib.pyplot as plt\n",
    "from dem_comparison.utils import *\n",
    "from dem_comparison.utils import read_metrics\n",
    "from dem_comparison.plots import plot_metrics"
   ]
  },
  {
   "cell_type": "code",
   "execution_count": null,
   "metadata": {},
   "outputs": [],
   "source": [
    "analyse_difference_for_interval(\n",
    "    range(-72, -70),\n",
    "    range(65, 67),\n",
    "    temp_path=Path(\"TEMP_Range\"),\n",
    "    save_dir_path=Path(\"TEMP_Range_Outputs\"),\n",
    "    use_multiprocessing=True,\n",
    "    query_num_tasks=None,\n",
    "    keep_temp_files=True,\n",
    "    return_outputs=False,\n",
    "    num_cpus=4,\n",
    ")"
   ]
  },
  {
   "cell_type": "code",
   "execution_count": null,
   "metadata": {},
   "outputs": [],
   "source": [
    "diff_arrays = [Path(p) for p in glob.glob(\"TEMP_Range_Outputs/*.tif\")]\n",
    "diff_mos = Path(\"TEMP_Range_Outputs/diff_mos.tif\")\n",
    "if diff_mos.exists():\n",
    "    os.remove(diff_mos) \n",
    "simple_mosaic(diff_arrays, diff_mos)"
   ]
  },
  {
   "cell_type": "code",
   "execution_count": null,
   "metadata": {},
   "outputs": [],
   "source": [
    "plt.imshow(hillshade(rio.open(\"TEMP_Range_Outputs/diff_mos.tif\").read(1)), cmap = \"jet\")\n",
    "plt.colorbar()"
   ]
  },
  {
   "cell_type": "code",
   "execution_count": null,
   "metadata": {},
   "outputs": [],
   "source": [
    "is_error = True\n",
    "pkls = glob.glob(\"TEMP_Range_Outputs/dem**.pkl\")\n",
    "plot_metrics(pkls, is_error)"
   ]
  },
  {
   "cell_type": "code",
   "execution_count": null,
   "metadata": {},
   "outputs": [],
   "source": [
    "pkls = glob.glob(\"TEMP_Range_Outputs/dem**.pkl\")\n",
    "[mae, std, mse, nmad], x, y = read_metrics(pkls)"
   ]
  },
  {
   "cell_type": "code",
   "execution_count": null,
   "metadata": {},
   "outputs": [],
   "source": [
    "dems = glob.glob(\"TEMP_Range_Outputs/dem_diff**.tif\")"
   ]
  },
  {
   "cell_type": "code",
   "execution_count": null,
   "metadata": {},
   "outputs": [],
   "source": [
    "simple_mosaic(dems, \"TEMP_Range_Outputs/dem_mos_filled.tif\", fill_value=nmad)"
   ]
  },
  {
   "cell_type": "code",
   "execution_count": null,
   "metadata": {},
   "outputs": [],
   "source": [
    "plt.imshow(rio.open(\"TEMP_Range_Outputs/dem_mos_filled.tif\").read(1))\n",
    "plt.colorbar()"
   ]
  },
  {
   "cell_type": "code",
   "execution_count": null,
   "metadata": {},
   "outputs": [],
   "source": []
  }
 ],
 "metadata": {
  "kernelspec": {
   "display_name": "Python 3",
   "language": "python",
   "name": "python3"
  },
  "language_info": {
   "codemirror_mode": {
    "name": "ipython",
    "version": 3
   },
   "file_extension": ".py",
   "mimetype": "text/x-python",
   "name": "python",
   "nbconvert_exporter": "python",
   "pygments_lexer": "ipython3",
   "version": "3.13.2"
  }
 },
 "nbformat": 4,
 "nbformat_minor": 2
}
